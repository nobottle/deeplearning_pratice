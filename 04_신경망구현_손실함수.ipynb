{
  "nbformat": 4,
  "nbformat_minor": 0,
  "metadata": {
    "colab": {
      "provenance": [],
      "authorship_tag": "ABX9TyPhZaNmDTRQVhilsI7cFkYS",
      "include_colab_link": true
    },
    "kernelspec": {
      "name": "python3",
      "display_name": "Python 3"
    },
    "language_info": {
      "name": "python"
    }
  },
  "cells": [
    {
      "cell_type": "markdown",
      "metadata": {
        "id": "view-in-github",
        "colab_type": "text"
      },
      "source": [
        "<a href=\"https://colab.research.google.com/github/nobottle/deeplearning_pratice/blob/main/04_%EC%8B%A0%EA%B2%BD%EB%A7%9D%EA%B5%AC%ED%98%84_%EC%86%90%EC%8B%A4%ED%95%A8%EC%88%98.ipynb\" target=\"_parent\"><img src=\"https://colab.research.google.com/assets/colab-badge.svg\" alt=\"Open In Colab\"/></a>"
      ]
    },
    {
      "cell_type": "code",
      "execution_count": null,
      "metadata": {
        "id": "NvDfVfSKeG8a"
      },
      "outputs": [],
      "source": []
    },
    {
      "cell_type": "markdown",
      "source": [
        "Rule-based vs Data-driven\n",
        "\n",
        "다양한 변형들의 규칙을 일일히 변형해서 규칙을 짠다는것은 거의 불가능(rule-based)\n",
        "\n",
        "\n",
        "머신러닝에서는 위에거를 버림!\n",
        "\n",
        "현실에서 데이터를 열심히 수집,머신이 스스로 학습할 수 잇게\n",
        "\n"
      ],
      "metadata": {
        "id": "IQf3m_nVeTY3"
      }
    },
    {
      "cell_type": "markdown",
      "source": [
        "손실함수\n",
        "\n",
        "인공신경망에 손실함수라는 벌점을 준다\n",
        "\n",
        "인공신경망의 성능이 좋을수록 손실함수 값이 낮고 성능이 나쁠수록 손실함수 값이 높다\n",
        "\n",
        "one-hot encoding\n",
        "\n",
        "0=[1,0,0,0,0,0,0,0,0,0]\n",
        "\n",
        "1=[0,1,0,0,0,0,0,0,0,0]\n",
        "\n",
        "평균 제곱 오차\n",
        "\n",
        "데이터가 신경망을 거쳐 나온 확률 벡터와 라벨을 인코딩하여 나온 확률 벨터를 고차원 공간의 점으로 이해한 후 피타고라스 정리로 거리를 측정한다\n",
        "\n",
        "나중에 미분 계산의 편의를 위해 제곱근은 없애고 앞에1/2를 곱한다\n",
        "\n",
        "y > 신경망이 k라고 예측한 확률\n",
        "\n",
        "t > 라벨을 원 핫 인코딩한 후 k번째 좌표\n",
        "\n",
        "데이터 셋의 평균 제곱 오차는 각 데이터의 평균제곱오차의 평균으로 정의\n",
        "\n",
        "\n",
        "교차 엔트로피 오차\n",
        "\n",
        "교차 엔트로피는 정보이론에서 확률분포사이의 거리를 재는 방법\n",
        "\n",
        "데이터가 신경망을 거쳐 나온 확률 벡터와 라벨을 원핫 인코딩하여 나온 확률 벡터의 교차\n",
        "\n",
        "y=신경망이 k라고 예측하 확률\n",
        "t=라벨을 원 핫 인코딩 한 후 k번째 좌표\n",
        "\n",
        "라벨이 k0라고 하면 E=-logyk0\n",
        "\n",
        "데이터 셋의 교차 엔트로피 오차는 각 데이터의 교차 엔트로피 오차의 평균을 정의\n",
        " "
      ],
      "metadata": {
        "id": "3F91S6-qffA7"
      }
    }
  ]
}