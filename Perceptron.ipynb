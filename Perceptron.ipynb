{
  "nbformat": 4,
  "nbformat_minor": 0,
  "metadata": {
    "colab": {
      "provenance": [],
      "authorship_tag": "ABX9TyPv+lRfOy+23Fd3LvQiUqCo",
      "include_colab_link": true
    },
    "kernelspec": {
      "name": "python3",
      "display_name": "Python 3"
    },
    "language_info": {
      "name": "python"
    }
  },
  "cells": [
    {
      "cell_type": "markdown",
      "metadata": {
        "id": "view-in-github",
        "colab_type": "text"
      },
      "source": [
        "<a href=\"https://colab.research.google.com/github/nobottle/deeplearning_pratice/blob/main/Perceptron.ipynb\" target=\"_parent\"><img src=\"https://colab.research.google.com/assets/colab-badge.svg\" alt=\"Open In Colab\"/></a>"
      ]
    },
    {
      "cell_type": "markdown",
      "source": [
        "퍼셉트론 >>다수의 신호(전류나 강물처럼 흐름을 의미)를 입력받아 하나의 신호를 출력\n",
        "\n",
        "1>신호가 흐른다\n",
        "0>신호가 흐르지 않는다\n",
        "\n",
        "\n",
        "x1--w1---->y\n",
        "             \n",
        "x2---w2--->y\n",
        "   \n",
        "x1과 x2로 가는 신호에는 각각w1,w2(가중치)가 잇다\n",
        "이x와y를 감싸는 원이 잇는데 이는 **뉴런** 혹은 **노드** 라고 부른다\n",
        "\n",
        "수식으로나타내면\n",
        "\n",
        "y=0(w1x1+w2y2<=0)\n",
        "  \n",
        "y=1(w1x1+w2y2>0)\n",
        "\n",
        "가중치는 각 신호가 결과에 주는 영향력을 조절하는 요소\n",
        "즉 가중치가 클수록 해당신호가 중요하다는 뜻\n",
        "\n"
      ],
      "metadata": {
        "id": "sOnC53pmXzTm"
      }
    },
    {
      "cell_type": "markdown",
      "source": [
        "**단순한 논리회로**\n",
        "\n",
        "AND게이트\n",
        "입력이 둘이고 출력은 하나\n",
        "\n",
        "x1 x2 | y\n",
        "이 각각 x1,x2에는 0과 1들이 들어감 y값도 0또는 1\n",
        "\n",
        "NAND게이트와 OR게이트\n",
        "NAND는 Not AND를의미\n",
        "즉 AND게이트의 출력을 뒤집은 것\n",
        "\n",
        "OR게이트는 둘 중 하나의 입력신호만 1이면 1\n"
      ],
      "metadata": {
        "id": "_GWGudwcaB9D"
      }
    },
    {
      "cell_type": "markdown",
      "source": [
        "***퍼셉트론 구현하기***"
      ],
      "metadata": {
        "id": "WMiaf3Y_a_ab"
      }
    },
    {
      "cell_type": "code",
      "source": [
        "def AND(x1,x2):\n",
        "  w1,w2,theta=0.5,0.5,0.7\n",
        "  tmp=x1*w1+x2*w2\n",
        "  if tmp<=theta:\n",
        "    return 0\n",
        "  elif tmp>theta:\n",
        "    return 1\n",
        "AND(0,0) #0출력\n",
        "AND(1,0) #0출력\n",
        "AND(0,1) #0출력\n",
        "AND(1,1) #1출력\n",
        "\n"
      ],
      "metadata": {
        "colab": {
          "base_uri": "https://localhost:8080/"
        },
        "id": "xuHFP9o0bDiI",
        "outputId": "2917b0aa-67dd-4a4e-fdb2-da5dcc59e832"
      },
      "execution_count": null,
      "outputs": [
        {
          "output_type": "execute_result",
          "data": {
            "text/plain": [
              "1"
            ]
          },
          "metadata": {},
          "execution_count": 7
        }
      ]
    },
    {
      "cell_type": "markdown",
      "source": [
        "가중치와 편향 도입\n",
        "\n",
        "y=0(b+w1x1+w2x2<=0)\n",
        "\n",
        "y=1(b+w1x1+w2y2>0)\n",
        "\n",
        "b를 편향(bias)라고 부른다\n",
        "\n",
        "해석하자면 입력신호에 가중치를 곱한 값과 편향을 합하여 그 값이 0이 넘으면 1을 출력하고 그렇지 않으면\n",
        "0을 출력한다"
      ],
      "metadata": {
        "id": "EtpJsjUyc6vS"
      }
    },
    {
      "cell_type": "code",
      "source": [
        "import numpy as np\n",
        "x=np.array([0,1]) #입력\n",
        "w=np.array([0.5,0.5]) #가중치\n",
        "b=-0.7 #편향\n",
        "print(w*x)\n",
        "print(np.sum(w*x))\n",
        "print(np.sum(w*x)+b)"
      ],
      "metadata": {
        "colab": {
          "base_uri": "https://localhost:8080/"
        },
        "id": "CLKL8po_dYbZ",
        "outputId": "5e2877b9-ed85-4dfa-cc21-0c199173dcfc"
      },
      "execution_count": null,
      "outputs": [
        {
          "output_type": "stream",
          "name": "stdout",
          "text": [
            "[0.  0.5]\n",
            "0.5\n",
            "-0.19999999999999996\n"
          ]
        }
      ]
    },
    {
      "cell_type": "markdown",
      "source": [
        "가중치와 편향을 도입한 AND게이트 "
      ],
      "metadata": {
        "id": "4T1r72W0eM4u"
      }
    },
    {
      "cell_type": "code",
      "source": [
        "def AND(x1,x2):\n",
        "  x=np.array([x1,x2])\n",
        "  w=np.array([0.5,0.5])\n",
        "  b=-0.7\n",
        "  tmp=np.sum(w*x)+b\n",
        "  if tmp<=0:\n",
        "    return 0\n",
        "  else:\n",
        "    return 1\n",
        "'''\n",
        "w1,w2는 각각 입력 신호가 결과에 주는 영향력(중요도)을 조절하는 매개변수\n",
        "편향은 뉴런이 얼마나 쉽게 활성화(결과를 1로 출력)하느냐를 조절하는 매개변수\n",
        "\n",
        "위 코드를 예를들면 b가 -0.1이면 각 입력 신호에 가중치를 곱한 값들의 합이\n",
        "0.1을 초과할 때만 뉴런이 활성화한다\n",
        "반면 b가 -20이면 각 입력신호에 가중치를 곱한 값들의 합이20을 넘지 않으면 뉴런은\n",
        "활성화 되지 않는다\n"
      ],
      "metadata": {
        "id": "hSsu3Uq_eVBi"
      },
      "execution_count": null,
      "outputs": []
    },
    {
      "cell_type": "code",
      "source": [
        "#NAND게이트와 OR게이트\n",
        "\n",
        "def NAND(x1,x2):\n",
        "  x=np.array([x1,x2])\n",
        "  w=np.array([-0.5,-0.5])\n",
        "  b=0.7\n",
        "  tmp=np.sum(w*x)+b\n",
        "  if tmp<=0:\n",
        "    return 0\n",
        "  else:\n",
        "    return 1\n",
        "\n",
        "\n",
        "def or(x1,x2):\n",
        "  x=np.array([x1,x2])\n",
        "  w=np.array([0.5,0.5])\n",
        "  b=-0.2\n",
        "  tmp=np.sum(w*x)+b\n",
        "  if tmp<=0:\n",
        "    return 0\n",
        "  else:\n",
        "    return 1"
      ],
      "metadata": {
        "id": "Pm4My1F7f7-W"
      },
      "execution_count": null,
      "outputs": []
    },
    {
      "cell_type": "markdown",
      "source": [
        "***퍼셉트론의 한계***\n",
        "\n",
        "XOR게이트\n",
        "\n",
        "XOR게이트는 배타적 논리합이라는 논리회로이다\n",
        "x1과 x2중 한쪽이 1일 때만 1을 출력\n",
        "(배타적이란 자기 외에는 거부한다는 의미)\n",
        "\n",
        "사실상 지금까지 본 퍼셉트론은 XOR게이트 구현 불가\n",
        "(p.55,56참조)\n",
        "그러나 직선이라는 제약을 없애면 가능\n",
        "곡선은 쌉가능\n",
        "\n",
        "곡선의 영역>>비선형 영역\n",
        "직선의 영역>>선형 영역\n",
        "\n",
        "***다층 퍼셉트론***\n",
        "퍼셉트론은 층을 쌓아 다층 퍼셉트론을 만들 수 있다\n",
        "\n",
        "XOR게이트를 만드는 방법은 다양\n",
        "AND,NAND,OR게이트를 조합해보자\n",
        "(p.59참조)\n"
      ],
      "metadata": {
        "id": "jf7t8Voxg5_-"
      }
    },
    {
      "cell_type": "code",
      "source": [
        "#XOR게이트 구현하기\n",
        "\n",
        "def XOR(x1,x2):\n",
        "  s1=NAND(x1,x2)\n",
        "  s1=OR(x1,x2)\n",
        "  y=AND(s1,s2)\n",
        "  return y"
      ],
      "metadata": {
        "id": "L4w5F5hJn8oS"
      },
      "execution_count": null,
      "outputs": []
    },
    {
      "cell_type": "markdown",
      "source": [
        "XOR은 다층 구조의 네트워크이다\n",
        "\n",
        "x1>>s1>>y\n",
        "x2>>s2>>y\n",
        "0층>1층>2층\n",
        "x2,x2가 각각 s1,s2에 둘다 간다\n",
        "\n",
        "0층의 두 뉴런이 입력신호를 받아 1층의 뉴런으로 신호를 보낸다\n",
        "1층의 뉴런이 2층의 뉴런으로 신호를 보내고 2층의 뉴런은 y를 출력한다\n",
        "\n",
        "XOR게이트 퍼셉트론은 단층 퍼셉트론으로는 구현하지 못하는 것을 층을 하나 늘려 구현할 수 잇엇다\n",
        "퍼셉트론에서는 층을 더 쌓아 더 다양한 것을 표현가능하게 한다\n"
      ],
      "metadata": {
        "id": "MoBIECGXogEv"
      }
    },
    {
      "cell_type": "markdown",
      "source": [
        "***정리***\n",
        "\n",
        "퍼셉트론은 입출력을 갖춘 알고리즘이다 입력을 주면 정해진 규칙에 따른 값을 출력한다\n",
        "\n",
        "\n",
        "퍼센트론에서는 가중치와 편향을 매개변수로 설정한다\n",
        "\n",
        "\n",
        "퍼셉트론으로 AND,OR게이트 등의 논리회로를 표현할 수 잇다\n",
        "\n",
        "\n",
        "XOR게이트는 단층 퍼셉트론으로는 표현 불가\n",
        "\n",
        "\n",
        "2층 퍼셉트론을 활용하면 XOR게이트를 표현 가능\n",
        "\n",
        "\n",
        "단층 퍼셉트론은 직선형 영역만 표현 가능,다층 퍼셉트론은 비선형 (곡선)영역도 표현 가능\n",
        "\n",
        "\n",
        "다층 퍼셉트론은(이론상)컴퓨터를 표현할 수 잇다"
      ],
      "metadata": {
        "id": "Im9uTMfsqQrl"
      }
    }
  ]
}