{
  "nbformat": 4,
  "nbformat_minor": 0,
  "metadata": {
    "colab": {
      "provenance": [],
      "authorship_tag": "ABX9TyP2wbrDL2K0UoFtn6pmxNEb",
      "include_colab_link": true
    },
    "kernelspec": {
      "name": "python3",
      "display_name": "Python 3"
    },
    "language_info": {
      "name": "python"
    }
  },
  "cells": [
    {
      "cell_type": "markdown",
      "metadata": {
        "id": "view-in-github",
        "colab_type": "text"
      },
      "source": [
        "<a href=\"https://colab.research.google.com/github/nobottle/deeplearning_pratice/blob/main/SGD(%ED%99%95%EB%A5%A0%EC%A0%81_%EA%B2%BD%EC%82%AC_%ED%95%98%EA%B0%95%EB%B2%95).ipynb\" target=\"_parent\"><img src=\"https://colab.research.google.com/assets/colab-badge.svg\" alt=\"Open In Colab\"/></a>"
      ]
    },
    {
      "cell_type": "code",
      "execution_count": null,
      "metadata": {
        "id": "tijA0oJgmAyA"
      },
      "outputs": [],
      "source": [
        "class SGD:\n",
        "  def __init__(self,lr-0.01):\n",
        "    self.lr=lr #lr은 러닝레이트, 학습률을 의미한다\n",
        "\n",
        "  def update(self,params,grads): #params가중치 매개변수,grads기울기\n",
        "    for key in params.keys():\n",
        "      params[key]-=self.lr*grads[key]"
      ]
    },
    {
      "cell_type": "markdown",
      "source": [
        "SGD의 단점\n",
        "\n",
        "비등방성 함수(방향에 따라 성질,기울기가 달라지는 함수)에서는 탐색경로가 비효율적이다\n",
        "\n",
        "이 단점을 개선해주는 방법 모멘텀,aDaGrad,Adam이 있다"
      ],
      "metadata": {
        "id": "Z7iMCFN2n8PS"
      }
    }
  ]
}