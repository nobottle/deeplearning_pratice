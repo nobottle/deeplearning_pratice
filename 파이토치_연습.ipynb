{
  "nbformat": 4,
  "nbformat_minor": 0,
  "metadata": {
    "colab": {
      "provenance": [],
      "mount_file_id": "1zOZHvbipXUHPSjAGEcRXXDYvwi09xr6M",
      "authorship_tag": "ABX9TyME2gPiH9uzkikEzfgNTNaK",
      "include_colab_link": true
    },
    "kernelspec": {
      "name": "python3",
      "display_name": "Python 3"
    },
    "language_info": {
      "name": "python"
    },
    "gpuClass": "standard",
    "accelerator": "GPU"
  },
  "cells": [
    {
      "cell_type": "markdown",
      "metadata": {
        "id": "view-in-github",
        "colab_type": "text"
      },
      "source": [
        "<a href=\"https://colab.research.google.com/github/nobottle/deeplearning_pratice/blob/main/%ED%8C%8C%EC%9D%B4%ED%86%A0%EC%B9%98_%EC%97%B0%EC%8A%B5.ipynb\" target=\"_parent\"><img src=\"https://colab.research.google.com/assets/colab-badge.svg\" alt=\"Open In Colab\"/></a>"
      ]
    },
    {
      "cell_type": "code",
      "execution_count": null,
      "metadata": {
        "id": "wPJsdgFWka1q"
      },
      "outputs": [],
      "source": [
        "import torch"
      ]
    },
    {
      "cell_type": "markdown",
      "source": [
        "# 새 섹션"
      ],
      "metadata": {
        "id": "rS9jZpujHNh6"
      }
    },
    {
      "cell_type": "code",
      "source": [
        "import os\n",
        "from google.colab import drive\n",
        "drive.mount('/content/drive/')\n"
      ],
      "metadata": {
        "id": "6bUCK7j9GjQD"
      },
      "execution_count": null,
      "outputs": []
    },
    {
      "cell_type": "code",
      "source": [
        "data=torch.randn(2,3) #randn은 매트릭스를 만드는 형태 (2,3)형태로 만든다 여기서는 \n",
        "#gaussian distribution평균0 분산1인 분포에서 랜덤하게 샘플링하겟다"
      ],
      "metadata": {
        "id": "fqrwywQGkwD6"
      },
      "execution_count": null,
      "outputs": []
    },
    {
      "cell_type": "code",
      "source": [
        "\n",
        "data=torch.rand(2,3) #위에랑 같은 거\n",
        "#uniform distribution에서 [0,1]에서 샘플링하겟다"
      ],
      "metadata": {
        "id": "iuAFnPFcle66"
      },
      "execution_count": null,
      "outputs": []
    },
    {
      "cell_type": "code",
      "source": [
        "print(data)"
      ],
      "metadata": {
        "colab": {
          "base_uri": "https://localhost:8080/"
        },
        "id": "qs-YvC51k7TP",
        "outputId": "6e7eaa3a-78ca-4814-e61c-843df3a07ff1"
      },
      "execution_count": null,
      "outputs": [
        {
          "output_type": "stream",
          "name": "stdout",
          "text": [
            "tensor([[0.5109, 0.9707, 0.2569],\n",
            "        [0.2004, 0.2633, 0.1888]])\n"
          ]
        }
      ]
    },
    {
      "cell_type": "code",
      "source": [
        "print(data)\n",
        "print(data*5)\n",
        "print(data+data)\n",
        "print(data.shape) #shape모양,형태를 보여줌\n",
        "print(data.dtype)#value들의 dtype을 나타내준다"
      ],
      "metadata": {
        "colab": {
          "base_uri": "https://localhost:8080/"
        },
        "id": "2b1l4f6HlJ9b",
        "outputId": "99b2cd55-e795-4100-8459-e00a4bb0d828"
      },
      "execution_count": null,
      "outputs": [
        {
          "output_type": "stream",
          "name": "stdout",
          "text": [
            "tensor([[0.5109, 0.9707, 0.2569],\n",
            "        [0.2004, 0.2633, 0.1888]])\n",
            "tensor([[2.5544, 4.8535, 1.2844],\n",
            "        [1.0018, 1.3166, 0.9442]])\n",
            "tensor([[1.0218, 1.9414, 0.5138],\n",
            "        [0.4007, 0.5267, 0.3777]])\n",
            "torch.Size([2, 3])\n",
            "torch.float32\n"
          ]
        }
      ]
    },
    {
      "cell_type": "markdown",
      "source": [
        "**data를 생성하는 여러 방법!"
      ],
      "metadata": {
        "id": "w6JruwJImFOn"
      }
    },
    {
      "cell_type": "code",
      "source": [
        "data=torch.zeros([2,4])\n",
        "print(data)\n",
        "data=torch.ones([2,4])\n",
        "print(data)\n",
        "data=torch.eye(4)\n",
        "print(data)"
      ],
      "metadata": {
        "colab": {
          "base_uri": "https://localhost:8080/"
        },
        "id": "yFNlw9iFmLmj",
        "outputId": "84cf99b1-07e4-49fb-a3c2-f06f961fdedb"
      },
      "execution_count": null,
      "outputs": [
        {
          "output_type": "stream",
          "name": "stdout",
          "text": [
            "tensor([[0., 0., 0., 0.],\n",
            "        [0., 0., 0., 0.]])\n",
            "tensor([[1., 1., 1., 1.],\n",
            "        [1., 1., 1., 1.]])\n",
            "tensor([[1., 0., 0., 0.],\n",
            "        [0., 1., 0., 0.],\n",
            "        [0., 0., 1., 0.],\n",
            "        [0., 0., 0., 1.]])\n"
          ]
        }
      ]
    },
    {
      "cell_type": "markdown",
      "source": [
        "list와 차이점 및 벡터 내적 #그냥 리스트와 tensor로변경 후 연산 차이"
      ],
      "metadata": {
        "id": "HPBLKsf8mfYr"
      }
    },
    {
      "cell_type": "code",
      "source": [
        "lst1=[1,2] \n",
        "lst2=[3,4]\n",
        "tor1=torch.tensor([1,2])\n",
        "tor2=torch.tensor([3,4])\n",
        "print(lst1+lst2)\n",
        "print(tor1+tor2)\n",
        "print(tor1*tor2)\n",
        "\n",
        "print(sum(tor1+tor2)) #[4,6]의 합\n",
        "print(tor1.dot(tor2)) # 1*3+2*4=11\n",
        "print(torch.dot(tor1,tor2))\n",
        "print(torch.matmul(tor1,tor2)) \n",
        "print(torch.matmul(tor1.view(1,-1),tor2)[0]) #view함수 mataul은 shape이 매칭이 되어야하지만 위에는 안맞음 맞추기위해서 사용"
      ],
      "metadata": {
        "colab": {
          "base_uri": "https://localhost:8080/"
        },
        "id": "l88W3xphmi62",
        "outputId": "64800f03-a461-4c3c-a118-76f997791ecc"
      },
      "execution_count": null,
      "outputs": [
        {
          "output_type": "stream",
          "name": "stdout",
          "text": [
            "[1, 2, 3, 4]\n",
            "tensor([4, 6])\n",
            "tensor([3, 8])\n",
            "tensor(10)\n",
            "tensor(11)\n",
            "tensor(11)\n",
            "tensor(11)\n",
            "tensor(11)\n"
          ]
        }
      ]
    },
    {
      "cell_type": "markdown",
      "source": [
        "매트릭스의 곱\n",
        "\n",
        "'''\n",
        "그래요, 행렬 곱셈의 결과의 모양은 곱셈 되는 행렬의 모양에 따라 달라집니다. 구체적으로, 모양이 (m, n)인 행렬 A와 모양이 (n, p)인 행렬 B가 있을 때, 결과 행렬 C의 모양은 (m, p)이 됩니다.\n",
        "\n",
        "A의 열 수와 B의 행 수가 같아야 곱셈이 유효합니다. 결과 행렬 C는 A의 행 수에 해당하는 m 행과 B의 열 수에 해당하는 p 열을 갖습니다.\n",
        "\n",
        "PyTorch에서는 matmul 함수 또는 @ 연산자를 사용하여 행렬 곱셈을 수행할 수 있습니다. 결과는 입력 행렬의 모양에 따라 예상된 모양이 됩니다. *이탤릭체 텍스트*"
      ],
      "metadata": {
        "id": "cXrsUaOGsMae"
      }
    },
    {
      "cell_type": "code",
      "source": [
        "mat1=torch.tensor([[2,5,8],[5,3,1]]) #shape은 (2,3)\n",
        "mat2=torch.tensor([[3,2],[5,4],[7,8]]) #shape은(3,2)\n",
        "print(mat1)\n",
        "print(mat2)\n",
        "print(torch.matmul(mat1,mat2)) #결과는 matrix (2,2)형태로 나옴\n",
        "print(torch.matmul(mat2,mat1)) #(3,3)이 나올것"
      ],
      "metadata": {
        "colab": {
          "base_uri": "https://localhost:8080/"
        },
        "id": "bG9Os5C7sOG6",
        "outputId": "6a818539-43de-4980-b7ef-07a8a38ecd2f"
      },
      "execution_count": null,
      "outputs": [
        {
          "output_type": "stream",
          "name": "stdout",
          "text": [
            "tensor([[2, 5, 8],\n",
            "        [5, 3, 1]])\n",
            "tensor([[3, 2],\n",
            "        [5, 4],\n",
            "        [7, 8]])\n",
            "tensor([[87, 88],\n",
            "        [37, 30]])\n",
            "tensor([[16, 21, 26],\n",
            "        [30, 37, 44],\n",
            "        [54, 59, 64]])\n"
          ]
        }
      ]
    },
    {
      "cell_type": "markdown",
      "source": [
        "인덱싱/슬라이딩"
      ],
      "metadata": {
        "id": "Xg0HE0Fsuvtd"
      }
    },
    {
      "cell_type": "code",
      "source": [
        "data=torch.randn(4,3)\n",
        "print(data)\n",
        "print(data[2,:]) #low vector\n",
        "print(data[:,1]) #col vector\n",
        "print(data[2][1]) #matrix A의 (2,1)의 값"
      ],
      "metadata": {
        "colab": {
          "base_uri": "https://localhost:8080/"
        },
        "id": "_WEEVNfVuxLk",
        "outputId": "19174828-5683-411b-acba-7dfcacaff5a9"
      },
      "execution_count": null,
      "outputs": [
        {
          "output_type": "stream",
          "name": "stdout",
          "text": [
            "tensor([[-0.8339,  0.3977, -0.8879],\n",
            "        [ 0.0668, -0.1108, -0.4417],\n",
            "        [-0.9070, -0.6817, -0.0522],\n",
            "        [ 0.1541,  1.4863, -0.1358]])\n",
            "tensor([-0.9070, -0.6817, -0.0522])\n",
            "tensor([ 0.3977, -0.1108, -0.6817,  1.4863])\n",
            "tensor(-0.6817)\n"
          ]
        }
      ]
    },
    {
      "cell_type": "markdown",
      "source": [
        "기본적인 통계 관련 함수"
      ],
      "metadata": {
        "id": "iif9Extavruc"
      }
    },
    {
      "cell_type": "code",
      "source": [
        "print(torch.sum(data))\n",
        "print(torch.mean(data)) #평균\n",
        "print(torch.var(data))#분산\n",
        "print(torch.std(data))#표준편차\n",
        "print()\n",
        "#scalar value에 대해서 tensor속의 값만 추출\n",
        "print(torch.sum(data).item())#item\n",
        "print(torch.mean(data).item())\n",
        "print(torch.var(data).item())\n",
        "print(torch.std(data).item())"
      ],
      "metadata": {
        "colab": {
          "base_uri": "https://localhost:8080/"
        },
        "id": "jkmkJvOYvubT",
        "outputId": "781dff04-a033-4c91-c60c-c31e10943a3d"
      },
      "execution_count": null,
      "outputs": [
        {
          "output_type": "stream",
          "name": "stdout",
          "text": [
            "tensor(-1.9462)\n",
            "tensor(-0.1622)\n",
            "tensor(0.4618)\n",
            "tensor(0.6796)\n",
            "\n",
            "-1.9462189674377441\n",
            "-0.1621849089860916\n",
            "0.46179792284965515\n",
            "0.6795571446418762\n"
          ]
        }
      ]
    },
    {
      "cell_type": "markdown",
      "source": [
        "pytorch조건문"
      ],
      "metadata": {
        "id": "z6fipYVBxykt"
      }
    },
    {
      "cell_type": "code",
      "source": [
        "print(torch.where(data>0,torch.ones(data.shape),torch.zeros(data.shape)))\n",
        "#where >>조건문 data가 0보다 크면 1을 채우고 아니면 0을 채워라"
      ],
      "metadata": {
        "colab": {
          "base_uri": "https://localhost:8080/"
        },
        "id": "-T7CSAWhx0a7",
        "outputId": "4d192d12-7ff4-42c4-beff-1da4c22b39f6"
      },
      "execution_count": null,
      "outputs": [
        {
          "output_type": "stream",
          "name": "stdout",
          "text": [
            "tensor([[0., 1., 0.],\n",
            "        [1., 0., 0.],\n",
            "        [0., 0., 0.],\n",
            "        [1., 1., 0.]])\n"
          ]
        }
      ]
    },
    {
      "cell_type": "markdown",
      "source": [
        "Numpy와 호환"
      ],
      "metadata": {
        "id": "TaFxkmlbyg3L"
      }
    },
    {
      "cell_type": "code",
      "source": [],
      "metadata": {
        "id": "q3-IjBZRyjDA"
      },
      "execution_count": null,
      "outputs": []
    },
    {
      "cell_type": "code",
      "source": [
        "import numpy"
      ],
      "metadata": {
        "id": "EKmmlJjPyjD2"
      },
      "execution_count": null,
      "outputs": []
    },
    {
      "cell_type": "code",
      "source": [
        "a=torch.ones(5)\n",
        "print(a)\n",
        "b=a.numpy()\n",
        "print(b)\n",
        "a=torch.from_numpy(b)\n",
        "print(a)"
      ],
      "metadata": {
        "colab": {
          "base_uri": "https://localhost:8080/"
        },
        "id": "VJiOIOiPylQ4",
        "outputId": "e37a5718-8326-492d-f187-1678f9535232"
      },
      "execution_count": null,
      "outputs": [
        {
          "output_type": "stream",
          "name": "stdout",
          "text": [
            "tensor([1., 1., 1., 1., 1.])\n",
            "[1. 1. 1. 1. 1.]\n",
            "tensor([1., 1., 1., 1., 1.])\n"
          ]
        }
      ]
    },
    {
      "cell_type": "markdown",
      "source": [
        "GPU의 사용"
      ],
      "metadata": {
        "id": "3l7iyZ2Vy5eh"
      }
    },
    {
      "cell_type": "code",
      "source": [
        "print(torch.cuda.is_available())\n",
        "print(torch.cuda.device_count())\n",
        "#디바이스가 연결되어 잇다면\n",
        "\n",
        "#True\n",
        "#1\n",
        "#의 결괏값이 나온다"
      ],
      "metadata": {
        "colab": {
          "base_uri": "https://localhost:8080/"
        },
        "id": "mYz-13z-y88z",
        "outputId": "e93aada4-4dae-4a31-e925-44fdb0f8dea9"
      },
      "execution_count": null,
      "outputs": [
        {
          "output_type": "stream",
          "name": "stdout",
          "text": [
            "True\n",
            "1\n"
          ]
        }
      ]
    },
    {
      "cell_type": "code",
      "source": [],
      "metadata": {
        "id": "tdbSGn0K2GDo"
      },
      "execution_count": null,
      "outputs": []
    },
    {
      "cell_type": "code",
      "source": [
        "x=torch.tensor([1,1]).cuda()\n",
        "print(x)\n",
        "x=x.cpu()\n",
        "print(x)"
      ],
      "metadata": {
        "colab": {
          "base_uri": "https://localhost:8080/"
        },
        "id": "aEpzC3Hc2GGO",
        "outputId": "e131f109-808a-4d6e-fb41-8333fb70cd4e"
      },
      "execution_count": null,
      "outputs": [
        {
          "output_type": "stream",
          "name": "stdout",
          "text": [
            "tensor([1, 1], device='cuda:0')\n",
            "tensor([1, 1])\n"
          ]
        }
      ]
    },
    {
      "cell_type": "code",
      "source": [
        "x=torch.tensor([1.,1.]).cuda()\n",
        "y=torch.tesor([0.5,0.1])\n",
        "#이거는 연산이 되지 않음 x는 cuda >>gpu에 잇고 y는 cpu에 잇으므로"
      ],
      "metadata": {
        "id": "rhvW8_z72qAp"
      },
      "execution_count": null,
      "outputs": []
    },
    {
      "cell_type": "code",
      "source": [
        "from math import e\n",
        "#computational graph\n",
        "\n",
        "'''\n",
        "requires_grad\"는 PyTorch에서 텐서의 기울기를 계산하는지 여부를 지정하는 플래그입니다. \n",
        "#기울기 계산이 필요한 텐서에서는 requires_grad=True로 지정해줘야 합니다.\n",
        " 만약 requires_grad=False로 지정하면, 기울기 계산이 필요없는 텐서로 처리되며, 연산에서의 메모리 절약이 가능합니다.\n",
        "'''\n",
        "a=torch.tensor([2.],requires_grad=True)\n",
        "b=torch.tensor([1.],requires_grad=True)\n",
        "c=a+b\n",
        "d=b+1\n",
        "e=c*d\n",
        "print(a)\n",
        "print(b)\n",
        "print(c)\n",
        "print(d)\n",
        "print(e) #마지막 노드!!"
      ],
      "metadata": {
        "colab": {
          "base_uri": "https://localhost:8080/"
        },
        "id": "q_slFLVq3Gid",
        "outputId": "7c0dfa15-2cd3-4d67-c420-e14dba49e9cd"
      },
      "execution_count": null,
      "outputs": [
        {
          "output_type": "stream",
          "name": "stdout",
          "text": [
            "tensor([2.], requires_grad=True)\n",
            "tensor([1.], requires_grad=True)\n",
            "tensor([3.], grad_fn=<AddBackward0>)\n",
            "tensor([2.], grad_fn=<AddBackward0>)\n",
            "tensor([6.], grad_fn=<MulBackward0>)\n"
          ]
        }
      ]
    },
    {
      "cell_type": "code",
      "source": [
        "print(a.data)\n",
        "print(a.grad)\n",
        "print(a.grad_fn)"
      ],
      "metadata": {
        "colab": {
          "base_uri": "https://localhost:8080/"
        },
        "id": "0qvydX896nbF",
        "outputId": "a9e11703-50df-4018-9443-0608ec7d6900"
      },
      "execution_count": null,
      "outputs": [
        {
          "output_type": "stream",
          "name": "stdout",
          "text": [
            "tensor([2.])\n",
            "None\n",
            "None\n"
          ]
        }
      ]
    },
    {
      "cell_type": "code",
      "source": [
        "from math import e\n",
        "#computational graph\n",
        "\n",
        "'''\n",
        "requires_grad\"는 PyTorch에서 텐서의 기울기를 계산하는지 여부를 지정하는 플래그입니다. \n",
        "#기울기 계산이 필요한 텐서에서는 requires_grad=True로 지정해줘야 합니다.\n",
        " 만약 requires_grad=False로 지정하면, 기울기 계산이 필요없는 텐서로 처리되며, 연산에서의 메모리 절약이 가능합니다.\n",
        "'''\n",
        "a=torch.tensor([2.],requires_grad=True)\n",
        "b=torch.tensor([1.],requires_grad=True)\n",
        "c=a+b\n",
        "d=b+1\n",
        "e=c*d\n",
        "c.retain_grad()\n",
        "d.retain_grad()\n",
        "e.retain_grad()"
      ],
      "metadata": {
        "id": "fp_Yi6nc7uDi"
      },
      "execution_count": null,
      "outputs": []
    },
    {
      "cell_type": "code",
      "source": [
        "e.backward(retain_graph=True)"
      ],
      "metadata": {
        "id": "d5QDWYla7dlv"
      },
      "execution_count": null,
      "outputs": []
    },
    {
      "cell_type": "code",
      "source": [
        "\n",
        "print(a.grad)\n",
        "print(b.grad)\n",
        "print(c.grad)\n",
        "print(d.grad)\n",
        "print(e.grad)\n"
      ],
      "metadata": {
        "colab": {
          "base_uri": "https://localhost:8080/"
        },
        "id": "P0ofcq737lKE",
        "outputId": "755e04a3-b4b0-4d9d-e73b-2ffd0f332e6d"
      },
      "execution_count": null,
      "outputs": [
        {
          "output_type": "stream",
          "name": "stdout",
          "text": [
            "tensor([2.])\n",
            "tensor([5.])\n",
            "tensor([2.])\n",
            "tensor([3.])\n",
            "tensor([1.])\n"
          ]
        }
      ]
    },
    {
      "cell_type": "code",
      "source": [
        "a.grad.zero_() #값을 0으로 초기화시킴\n",
        "print(a.grad)"
      ],
      "metadata": {
        "colab": {
          "base_uri": "https://localhost:8080/"
        },
        "id": "buSmTIHg8DK4",
        "outputId": "a33aba6b-2f9f-41cc-ec3e-e150e7030ef6"
      },
      "execution_count": null,
      "outputs": [
        {
          "output_type": "stream",
          "name": "stdout",
          "text": [
            "tensor([0.])\n"
          ]
        }
      ]
    }
  ]
}